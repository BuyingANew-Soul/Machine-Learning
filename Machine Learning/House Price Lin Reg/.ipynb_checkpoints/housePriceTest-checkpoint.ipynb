{
 "cells": [
  {
   "cell_type": "code",
   "execution_count": 9,
   "metadata": {},
   "outputs": [],
   "source": [
    "import pandas as pd\n",
    "import numpy as np\n",
    "import matplotlib.pyplot as plt\n"
   ]
  },
  {
   "cell_type": "code",
   "execution_count": 12,
   "metadata": {},
   "outputs": [
    {
     "data": {
      "text/html": [
       "<div>\n",
       "<style scoped>\n",
       "    .dataframe tbody tr th:only-of-type {\n",
       "        vertical-align: middle;\n",
       "    }\n",
       "\n",
       "    .dataframe tbody tr th {\n",
       "        vertical-align: top;\n",
       "    }\n",
       "\n",
       "    .dataframe thead th {\n",
       "        text-align: right;\n",
       "    }\n",
       "</style>\n",
       "<table border=\"1\" class=\"dataframe\">\n",
       "  <thead>\n",
       "    <tr style=\"text-align: right;\">\n",
       "      <th></th>\n",
       "      <th>size in ft2</th>\n",
       "      <th>rooms</th>\n",
       "      <th>price</th>\n",
       "    </tr>\n",
       "  </thead>\n",
       "  <tbody>\n",
       "    <tr>\n",
       "      <th>0</th>\n",
       "      <td>2104</td>\n",
       "      <td>3</td>\n",
       "      <td>399900</td>\n",
       "    </tr>\n",
       "    <tr>\n",
       "      <th>1</th>\n",
       "      <td>1600</td>\n",
       "      <td>3</td>\n",
       "      <td>329900</td>\n",
       "    </tr>\n",
       "    <tr>\n",
       "      <th>2</th>\n",
       "      <td>2400</td>\n",
       "      <td>3</td>\n",
       "      <td>369000</td>\n",
       "    </tr>\n",
       "    <tr>\n",
       "      <th>3</th>\n",
       "      <td>1416</td>\n",
       "      <td>2</td>\n",
       "      <td>232000</td>\n",
       "    </tr>\n",
       "    <tr>\n",
       "      <th>4</th>\n",
       "      <td>3000</td>\n",
       "      <td>4</td>\n",
       "      <td>539900</td>\n",
       "    </tr>\n",
       "    <tr>\n",
       "      <th>5</th>\n",
       "      <td>1985</td>\n",
       "      <td>4</td>\n",
       "      <td>299900</td>\n",
       "    </tr>\n",
       "    <tr>\n",
       "      <th>6</th>\n",
       "      <td>1534</td>\n",
       "      <td>3</td>\n",
       "      <td>314900</td>\n",
       "    </tr>\n",
       "    <tr>\n",
       "      <th>7</th>\n",
       "      <td>1427</td>\n",
       "      <td>3</td>\n",
       "      <td>198999</td>\n",
       "    </tr>\n",
       "    <tr>\n",
       "      <th>8</th>\n",
       "      <td>1380</td>\n",
       "      <td>3</td>\n",
       "      <td>212000</td>\n",
       "    </tr>\n",
       "    <tr>\n",
       "      <th>9</th>\n",
       "      <td>1494</td>\n",
       "      <td>3</td>\n",
       "      <td>242500</td>\n",
       "    </tr>\n",
       "  </tbody>\n",
       "</table>\n",
       "</div>"
      ],
      "text/plain": [
       "   size in ft2  rooms   price\n",
       "0         2104      3  399900\n",
       "1         1600      3  329900\n",
       "2         2400      3  369000\n",
       "3         1416      2  232000\n",
       "4         3000      4  539900\n",
       "5         1985      4  299900\n",
       "6         1534      3  314900\n",
       "7         1427      3  198999\n",
       "8         1380      3  212000\n",
       "9         1494      3  242500"
      ]
     },
     "execution_count": 12,
     "metadata": {},
     "output_type": "execute_result"
    }
   ],
   "source": [
    "columns = ['size in ft2', 'rooms', 'price']\n",
    "df = pd.read_csv('housePrice.txt', names=columns )\n",
    "df.head(10)"
   ]
  },
  {
   "cell_type": "markdown",
   "metadata": {},
   "source": [
    "### Calculating yPredicted and comparing with actual y"
   ]
  },
  {
   "cell_type": "code",
   "execution_count": 72,
   "metadata": {},
   "outputs": [
    {
     "name": "stdout",
     "output_type": "stream",
     "text": [
      "y\t\tyPredicted\n",
      "3999.0\t\t3788.2000000000003\n",
      "3299.0\t\t2881.0\n",
      "3690.0\t\t4321.0\n",
      "2320.0\t\t2549.8\n",
      "5399.0\t\t5401.0\n",
      "2999.0\t\t3574.0\n",
      "3149.0\t\t2762.2000000000003\n",
      "1989.99\t\t2569.6\n",
      "2120.0\t\t2485.0\n",
      "2425.0\t\t2690.2000000000003\n",
      "2399.99\t\t3493.0\n",
      "3470.0\t\t3601.0\n",
      "3299.99\t\t3403.0\n",
      "6999.0\t\t8061.400000000001\n",
      "2599.0\t\t2283.4\n",
      "4499.0\t\t4141.0\n",
      "2999.0\t\t2377.0\n",
      "1999.0\t\t2225.8\n",
      "4999.98\t\t4697.2\n",
      "5990.0\t\t5456.8\n",
      "2529.0\t\t3181.6\n",
      "2550.0\t\t3399.4\n",
      "2429.0\t\t2888.2000000000003\n",
      "2599.0\t\t3532.6\n",
      "5739.0\t\t7003.0\n",
      "2499.0\t\t1981.0\n",
      "4645.0\t\t2625.4\n",
      "4690.0\t\t4547.8\n",
      "4750.0\t\t3961.0\n",
      "2999.0\t\t4747.6\n",
      "3499.0\t\t3311.2000000000003\n",
      "1699.0\t\t1801.0\n",
      "3149.0\t\t3673.0\n",
      "5799.0\t\t5647.6\n",
      "2859.0\t\t3260.8\n",
      "2499.0\t\t2587.6\n",
      "2299.0\t\t2231.2000000000003\n",
      "3450.0\t\t3838.6\n",
      "5490.0\t\t7588.0\n",
      "2870.0\t\t3892.6\n",
      "3685.0\t\t2996.2000000000003\n",
      "3299.0\t\t4029.4\n",
      "3140.0\t\t4621.6\n",
      "2990.0\t\t2161.0\n",
      "1799.0\t\t1534.6000000000001\n",
      "2999.0\t\t3334.6\n",
      "2395.0\t\t2166.4\n"
     ]
    }
   ],
   "source": [
    "x = np.array(df['size in ft2'])\n",
    "y = np.array(df['price']/100)\n",
    "m0 = 1\n",
    "m1 = 1.8\n",
    "yPredicted = m0+ m1*x\n",
    "print('y\\t\\tyPredicted')\n",
    "for i in range(len(y)):\n",
    "    print(f'{y[i]}\\t\\t{yPredicted[i]}')"
   ]
  },
  {
   "cell_type": "markdown",
   "metadata": {},
   "source": [
    "### Calculating error and square of error for each point\n",
    "### Also calculating total error and total squared error"
   ]
  },
  {
   "cell_type": "code",
   "execution_count": 76,
   "metadata": {},
   "outputs": [
    {
     "name": "stdout",
     "output_type": "stream",
     "text": [
      "error                   squared error\n",
      "-210.79999999999973\t\t44436.63999999988\n",
      "-418.0\t\t174724.0\n",
      "631.0\t\t398161.0\n",
      "229.80000000000018\t\t52808.04000000008\n",
      "2.0\t\t4.0\n",
      "575.0\t\t330625.0\n",
      "-386.7999999999997\t\t149614.2399999998\n",
      "579.6099999999999\t\t335947.75209999987\n",
      "365.0\t\t133225.0\n",
      "265.2000000000003\t\t70331.04000000014\n",
      "1093.0100000000002\t\t1194670.8601000004\n",
      "131.0\t\t17161.0\n",
      "103.01000000000022\t\t10611.060100000044\n",
      "1062.4000000000005\t\t1128693.7600000012\n",
      "-315.5999999999999\t\t99603.35999999994\n",
      "-358.0\t\t128164.0\n",
      "-622.0\t\t386884.0\n",
      "226.80000000000018\t\t51438.240000000085\n",
      "-302.77999999999975\t\t91675.72839999985\n",
      "-533.1999999999998\t\t284302.2399999998\n",
      "652.5999999999999\t\t425886.7599999999\n",
      "849.4000000000001\t\t721480.3600000001\n",
      "459.2000000000003\t\t210864.64000000025\n",
      "933.5999999999999\t\t871608.9599999998\n",
      "1264.0\t\t1597696.0\n",
      "-518.0\t\t268324.0\n",
      "-2019.6\t\t4078784.1599999997\n",
      "-142.19999999999982\t\t20220.83999999995\n",
      "-789.0\t\t622521.0\n",
      "1748.6000000000004\t\t3057601.9600000014\n",
      "-187.79999999999973\t\t35268.839999999895\n",
      "102.0\t\t10404.0\n",
      "524.0\t\t274576.0\n",
      "-151.39999999999964\t\t22921.95999999989\n",
      "401.8000000000002\t\t161443.24000000014\n",
      "88.59999999999991\t\t7849.959999999984\n",
      "-67.79999999999973\t\t4596.839999999963\n",
      "388.5999999999999\t\t151009.95999999993\n",
      "2098.0\t\t4401604.0\n",
      "1022.5999999999999\t\t1045710.7599999998\n",
      "-688.7999999999997\t\t474445.43999999965\n",
      "730.4000000000001\t\t533484.1600000001\n",
      "1481.6000000000004\t\t2195138.560000001\n",
      "-829.0\t\t687241.0\n",
      "-264.39999999999986\t\t69907.35999999993\n",
      "335.5999999999999\t\t112627.35999999994\n",
      "-228.5999999999999\t\t52257.959999999955\n",
      "\n",
      "\n",
      "Total error = 9310.650000000007\n",
      "Total squared error = 27198557.04070001\n"
     ]
    }
   ],
   "source": [
    "\n",
    "total_error = 0\n",
    "total_squared_error = 0\n",
    "print('error                   squared error')\n",
    "for i in range(len(y)):\n",
    "    error = yPredicted[i] - y[i]\n",
    "    squared_error = error**2\n",
    "    total_error += error\n",
    "    total_squared_error += squared_error\n",
    "    print(f'{error}\\t\\t{squared_error}')\n",
    "    \n",
    "print(f'\\n\\nTotal error = {total_error}\\nTotal squared error = {total_squared_error}')  \n"
   ]
  },
  {
   "cell_type": "markdown",
   "metadata": {},
   "source": [
    "### scatter plot is for the original data, y=price ; x=size\n",
    "### line plot is for the yPredicted vs original x \n",
    "### with the initial m0 = 1, m1 = 1.8 the line plot looks good fit with the data"
   ]
  },
  {
   "cell_type": "code",
   "execution_count": 78,
   "metadata": {},
   "outputs": [
    {
     "data": {
      "image/png": "[encoded data removed]",
      "text/plain": [
       "<Figure size 432x288 with 1 Axes>"
      ]
     },
     "metadata": {
      "needs_background": "light"
     },
     "output_type": "display_data"
    }
   ],
   "source": [
    "plt.scatter(x, y, marker='x', c='red' )\n",
    "plt.plot(x, yPredicted, c='blue' )\n",
    "plt.show()\n"
   ]
  },
  {
   "cell_type": "markdown",
   "metadata": {},
   "source": [
    "### even though the line looks good , we have a huge cost"
   ]
  },
  {
   "cell_type": "code",
   "execution_count": 80,
   "metadata": {},
   "outputs": [
    {
     "data": {
      "text/plain": [
       "289346.35149680864"
      ]
     },
     "execution_count": 80,
     "metadata": {},
     "output_type": "execute_result"
    }
   ],
   "source": [
    "m = len(y)\n",
    "cost = total_squared_error /(2*m)\n",
    "cost"
   ]
  },
  {
   "cell_type": "code",
   "execution_count": null,
   "metadata": {},
   "outputs": [],
   "source": []
  }
 ],
 "metadata": {
  "kernelspec": {
   "display_name": "Python 3",
   "language": "python",
   "name": "python3"
  },
  "language_info": {
   "codemirror_mode": {
    "name": "ipython",
    "version": 3
   },
   "file_extension": ".py",
   "mimetype": "text/x-python",
   "name": "python",
   "nbconvert_exporter": "python",
   "pygments_lexer": "ipython3",
   "version": "3.7.6"
  }
 },
 "nbformat": 4,
 "nbformat_minor": 4
}
